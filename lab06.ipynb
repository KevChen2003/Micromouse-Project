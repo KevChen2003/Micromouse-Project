{
 "cells": [
  {
   "cell_type": "markdown",
   "metadata": {},
   "source": [
    "### Task 0\n",
    "\n",
    "Print Hello world to the terminal "
   ]
  },
  {
   "cell_type": "code",
   "execution_count": 3,
   "metadata": {},
   "outputs": [
    {
     "name": "stdout",
     "output_type": "stream",
     "text": [
      "Hello world\n"
     ]
    }
   ],
   "source": [
    "print('Hello world')"
   ]
  },
  {
   "cell_type": "markdown",
   "metadata": {},
   "source": [
    "### Task 1 - Load an Image\n",
    "\n",
    "Load in the \"shapes.png\" image and display it using matplotlib. \n",
    "\n",
    "Ensure the colours are correctly displayed in RGB. [Hint](https://docs.opencv.org/4.x/d8/d01/group__imgproc__color__conversions.html#ga4e0972be5de079fed4e3a10e24ef5ef0) "
   ]
  },
  {
   "cell_type": "code",
   "execution_count": 4,
   "metadata": {},
   "outputs": [
    {
     "ename": "error",
     "evalue": "OpenCV(3.4.2) c:\\projects\\opencv-python\\opencv\\modules\\imgproc\\src\\color.hpp:253: error: (-215:Assertion failed) VScn::contains(scn) && VDcn::contains(dcn) && VDepth::contains(depth) in function 'cv::CvtHelper<struct cv::Set<3,4,-1>,struct cv::Set<3,4,-1>,struct cv::Set<0,2,5>,2>::CvtHelper'\n",
     "output_type": "error",
     "traceback": [
      "\u001b[1;31m---------------------------------------------------------------------------\u001b[0m",
      "\u001b[1;31merror\u001b[0m                                     Traceback (most recent call last)",
      "\u001b[1;32m<ipython-input-4-9740d8c6d7bd>\u001b[0m in \u001b[0;36m<module>\u001b[1;34m\u001b[0m\n\u001b[0;32m      5\u001b[0m \u001b[0mIMAGE_FILE\u001b[0m \u001b[1;33m=\u001b[0m \u001b[1;34m\"shapes.png\"\u001b[0m\u001b[1;33m\u001b[0m\u001b[1;33m\u001b[0m\u001b[0m\n\u001b[0;32m      6\u001b[0m \u001b[0mbgr\u001b[0m \u001b[1;33m=\u001b[0m \u001b[0mcv2\u001b[0m\u001b[1;33m.\u001b[0m\u001b[0mimread\u001b[0m\u001b[1;33m(\u001b[0m\u001b[0mIMAGE_FILE\u001b[0m\u001b[1;33m)\u001b[0m\u001b[1;33m\u001b[0m\u001b[1;33m\u001b[0m\u001b[0m\n\u001b[1;32m----> 7\u001b[1;33m \u001b[0mrgb\u001b[0m \u001b[1;33m=\u001b[0m \u001b[0mcv2\u001b[0m\u001b[1;33m.\u001b[0m\u001b[0mcvtColor\u001b[0m\u001b[1;33m(\u001b[0m\u001b[0mbgr\u001b[0m\u001b[1;33m,\u001b[0m \u001b[0mcv2\u001b[0m\u001b[1;33m.\u001b[0m\u001b[0mCOLOR_BGR2RGB\u001b[0m\u001b[1;33m)\u001b[0m\u001b[1;33m\u001b[0m\u001b[1;33m\u001b[0m\u001b[0m\n\u001b[0m\u001b[0;32m      8\u001b[0m \u001b[0mplt\u001b[0m\u001b[1;33m.\u001b[0m\u001b[0mimshow\u001b[0m\u001b[1;33m(\u001b[0m\u001b[0mrgb\u001b[0m\u001b[1;33m)\u001b[0m\u001b[1;33m\u001b[0m\u001b[1;33m\u001b[0m\u001b[0m\n\u001b[0;32m      9\u001b[0m \u001b[0mplt\u001b[0m\u001b[1;33m.\u001b[0m\u001b[0mshow\u001b[0m\u001b[1;33m(\u001b[0m\u001b[1;33m)\u001b[0m\u001b[1;33m\u001b[0m\u001b[1;33m\u001b[0m\u001b[0m\n",
      "\u001b[1;31merror\u001b[0m: OpenCV(3.4.2) c:\\projects\\opencv-python\\opencv\\modules\\imgproc\\src\\color.hpp:253: error: (-215:Assertion failed) VScn::contains(scn) && VDcn::contains(dcn) && VDepth::contains(depth) in function 'cv::CvtHelper<struct cv::Set<3,4,-1>,struct cv::Set<3,4,-1>,struct cv::Set<0,2,5>,2>::CvtHelper'\n"
     ]
    }
   ],
   "source": [
    "import cv2\n",
    "import numpy as np\n",
    "import matplotlib.pyplot as plt\n",
    "\n",
    "IMAGE_FILE = \"shapes.png\"\n",
    "bgr = cv2.imread(IMAGE_FILE)\n",
    "rgb = cv2.cvtColor(bgr, cv2.COLOR_BGR2RGB)\n",
    "plt.imshow(rgb)\n",
    "plt.show()\n"
   ]
  },
  {
   "cell_type": "markdown",
   "metadata": {},
   "source": [
    "### Task 2 - Colour Mask\n",
    "\n",
    "Using a blue color mask, generate a monochrome mask of the blue shapes. \n",
    "\n",
    "You will need to use the cv2.inRange() function. \n",
    "\n",
    "Hint: ([0,0,90] and [150,180,255])\n",
    "\n",
    "\n",
    "\n",
    "\n"
   ]
  },
  {
   "cell_type": "code",
   "execution_count": null,
   "metadata": {},
   "outputs": [],
   "source": [
    "import cv2\n",
    "import numpy as np\n",
    "import matplotlib.pyplot as plt\n",
    "\n",
    "IMAGE_FILE = \"shapes.png\"\n",
    "bgr = cv2.imread(IMAGE_FILE)\n",
    "hsv = cv2.cvtColor(bgr, cv2.COLOR_BGR2RGB)\n",
    "lower = np.array([0, 0, 90])\n",
    "upper = np.array([150, 180, 255])\n",
    "mask = cv2.inRange(hsv, lower, upper)\n",
    "plt.imshow(mask,cmap='gray')\n",
    "plt.show()\n"
   ]
  },
  {
   "cell_type": "markdown",
   "metadata": {},
   "source": [
    "### Task 3 - Bitwise Operation\n",
    "\n",
    "Using the bitwise and operation, apply the mask to the source image and display the result. \n",
    "\n",
    "Examples for cv2.bitwise_and can be found [Here](https://www.geeksforgeeks.org/arithmetic-operations-on-images-using-opencv-set-2-bitwise-operations-on-binary-images/) "
   ]
  },
  {
   "cell_type": "code",
   "execution_count": null,
   "metadata": {},
   "outputs": [],
   "source": [
    "import cv2\n",
    "import numpy as np\n",
    "import matplotlib.pyplot as plt\n",
    "\n",
    "IMAGE_FILE = \"shapes.png\"\n",
    "bgr = cv2.imread(IMAGE_FILE)\n",
    "hsv = cv2.cvtColor(bgr, cv2.COLOR_BGR2RGB)\n",
    "lower = np.array([0, 0, 90])\n",
    "upper = np.array([150, 180, 255])\n",
    "mask = cv2.inRange(hsv, lower, upper)\n",
    "result = cv2.bitwise_and(bgr, bgr, mask=mask)\n",
    "result_rgb = cv2.cvtColor(result, cv2.COLOR_BGR2RGB)\n",
    "plt.imshow(result_rgb)\n",
    "plt.show()"
   ]
  },
  {
   "cell_type": "markdown",
   "metadata": {},
   "source": [
    "### Task 4 - HSV and Maze\n",
    "\n",
    "HSV (Hue, Saturation, Value) may provide better results for the Micromouse maze. \n",
    "\n",
    "Use the provided \"hsv_picker.ipynb\" to find a good range of HSV values for the maze and display the resulting mask of the maze walls. "
   ]
  },
  {
   "cell_type": "code",
   "execution_count": null,
   "metadata": {},
   "outputs": [],
   "source": [
    "import cv2\n",
    "import numpy as np\n",
    "import matplotlib.pyplot as plt\n",
    "\n",
    "IMAGE_FILE = \"maze1234.jpg\"\n",
    "img = cv2.imread(IMAGE_FILE)\n",
    "Hmin = 0\n",
    "Hmax = 179\n",
    "Smin = 0\n",
    "Smax = 255\n",
    "Vmin = 102\n",
    "Vmax = 224\n",
    "rgb = cv2.cvtColor(img, cv2.COLOR_BGR2RGB)\n",
    "hsv = cv2.cvtColor(img, cv2.COLOR_BGR2HSV)\n",
    "hsv_low = np.array([Hmin, Smin, Vmin], np.uint8)\n",
    "hsv_high = np.array([Hmax, Smax, Vmax], np.uint8)\n",
    "mask = cv2.inRange(hsv, hsv_low, hsv_high)\n",
    "res = cv2.bitwise_and(img, img, mask=mask)\n",
    "bgr = cv2.cvtColor(hsv, cv2.COLOR_HSV2RGB)\n",
    "plt.imshow(mask, cmap = 'gray')\n",
    "plt.show()"
   ]
  },
  {
   "cell_type": "markdown",
   "metadata": {},
   "source": [
    "### Task 5 - Erode\n",
    "\n",
    "Perform an erode operation from the source image. Use a kernel size of 7 and perform 5 iterations. "
   ]
  },
  {
   "cell_type": "code",
   "execution_count": null,
   "metadata": {},
   "outputs": [],
   "source": [
    "import cv2\n",
    "import numpy as np\n",
    "import matplotlib.pyplot as plt\n",
    "\n",
    "IMAGE_FILE = \"maze.jpg\"\n",
    "img = cv2.imread(IMAGE_FILE)\n",
    "Hmin = 0\n",
    "Hmax = 179\n",
    "Smin = 0\n",
    "Smax = 255\n",
    "Vmin = 102\n",
    "Vmax = 224\n",
    "hsv = cv2.cvtColor(img, cv2.COLOR_BGR2HSV)\n",
    "hsv_low = np.array([Hmin, Smin, Vmin], np.uint8)\n",
    "hsv_high = np.array([Hmax, Smax, Vmax], np.uint8)\n",
    "mask = cv2.inRange(hsv, hsv_low, hsv_high)\n",
    "kernel = np.ones((7,7), np.uint8)\n",
    "erosion = cv2.erode(mask, kernel, iterations = 5)\n",
    "\n",
    "plt.subplot(1, 2, 1)\n",
    "plt.imshow(mask, cmap='gray')\n",
    "plt.title('Original Mask')\n",
    "\n",
    "plt.subplot(1, 2, 2)\n",
    "plt.imshow(erosion, cmap='gray')\n",
    "plt.title('Eroded Mask')\n",
    "plt.show()\n"
   ]
  },
  {
   "cell_type": "markdown",
   "metadata": {},
   "source": [
    "### Task 6 - Dilate\n",
    "\n",
    "Perform an dilate operation from the source image. Use a kernel size of 3 and perform 5 iterations. "
   ]
  },
  {
   "cell_type": "code",
   "execution_count": null,
   "metadata": {},
   "outputs": [],
   "source": [
    "import cv2\n",
    "import numpy as np\n",
    "import matplotlib.pyplot as plt\n",
    "\n",
    "IMAGE_FILE = \"maze.jpg\"\n",
    "img = cv2.imread(IMAGE_FILE)\n",
    "Hmin = 0\n",
    "Hmax = 179\n",
    "Smin = 0\n",
    "Smax = 255\n",
    "Vmin = 102\n",
    "Vmax = 224\n",
    "hsv = cv2.cvtColor(img, cv2.COLOR_BGR2HSV)\n",
    "hsv_low = np.array([Hmin, Smin, Vmin], np.uint8)\n",
    "hsv_high = np.array([Hmax, Smax, Vmax], np.uint8)\n",
    "mask = cv2.inRange(hsv, hsv_low, hsv_high)\n",
    "kernel = np.ones((3,3), np.uint8)\n",
    "dilation = cv2.dilate(mask, kernel, iterations = 5)\n",
    "\n",
    "plt.subplot(1, 2, 1)\n",
    "plt.imshow(mask, cmap='gray')\n",
    "plt.title('Original Mask')\n",
    "\n",
    "plt.subplot(1, 2, 2)\n",
    "plt.imshow(dilation, cmap='gray')\n",
    "plt.title('Dilated Mask')\n",
    "plt.show()\n"
   ]
  },
  {
   "cell_type": "markdown",
   "metadata": {},
   "source": [
    "### Task 7 - ASCII representation\n",
    "\n",
    "Note: This task should be completed as it is part of the Micromouse assignment\n",
    "\n",
    "Convert the maze into an ASCII representation shown in the lab document. You may need to perform a series of erosions and dilations to get a good mask. \n",
    "\n",
    "Hint: Write a generic function to sample pixels between two coordinates. \n"
   ]
  },
  {
   "cell_type": "code",
   "execution_count": null,
   "metadata": {
    "scrolled": false
   },
   "outputs": [],
   "source": [
    "import cv2\n",
    "import numpy as np\n",
    "import matplotlib.pyplot as plt\n",
    "\n",
    "IMAGE_FILE = \"maze.jpg\"\n",
    "img = cv2.imread(IMAGE_FILE)\n",
    "Hmin = 0\n",
    "Hmax = 179\n",
    "Smin = 0\n",
    "Smax = 244\n",
    "Vmin = 115\n",
    "Vmax = 210\n",
    "hsv = cv2.cvtColor(img, cv2.COLOR_BGR2HSV)\n",
    "hsv_low = np.array([Hmin, Smin, Vmin], np.uint8)\n",
    "hsv_high = np.array([Hmax, Smax, Vmax], np.uint8)\n",
    "mask = cv2.inRange(hsv, hsv_low, hsv_high)\n",
    "\n",
    "kernel = np.ones((1,1), np.uint8)\n",
    "kernel2 = np.ones((2,2), np.uint8)\n",
    "kernel3 = np.ones((3,3), np.uint8)\n",
    "kernel4 = np.ones((4,4), np.uint8)\n",
    "kernel5 = np.ones((5,5), np.uint8)\n",
    "kernel7 = np.ones((7,7), np.uint8)\n",
    "dilation1 = cv2.dilate(mask, kernel3, iterations = 1)\n",
    "dilation2 = cv2.dilate(dilation1, kernel2, iterations = 1)\n",
    "erosion1 = cv2.erode(dilation2, kernel5, iterations = 7)\n",
    "dilation3 = cv2.dilate(erosion1, kernel4, iterations = 6)\n",
    "dilation4 = cv2.dilate(dilation3, kernel4, iterations = 3)\n",
    "dilation5 = cv2.dilate(dilation4, kernel2, iterations = 1)\n",
    "erosion2 = cv2.erode(dilation5, kernel5, iterations = 4)\n",
    "dilation6 = cv2.dilate(erosion2, kernel3, iterations = 6)\n",
    "dilation7 = cv2.dilate(dilation6, kernel2, iterations = 4)\n",
    "erosion3 = cv2.erode(dilation7, kernel2, iterations = 7)\n",
    "dilation8 = cv2.dilate(erosion3, kernel4, iterations = 1)\n",
    "dilation9 = cv2.dilate(dilation8, kernel2, iterations = 2)\n",
    "erosion4 = cv2.erode(dilation9, kernel5, iterations = 4)\n",
    "dilation10 = cv2.dilate(erosion4, kernel4, iterations = 2)\n",
    "\n",
    "plt.imshow(erosion4, cmap='gray')\n",
    "plt.title('eroded4')\n",
    "plt.show()\n",
    "\n",
    "plt.imshow(dilation10, cmap='gray')\n",
    "plt.title('dilation10')\n",
    "plt.show()"
   ]
  },
  {
   "cell_type": "code",
   "execution_count": null,
   "metadata": {},
   "outputs": [],
   "source": [
    "# this is for lab 7 quiz\n",
    "\n",
    "import numpy as np\n",
    "\n",
    "# Define the original image as a 10x10 numpy array\n",
    "image = np.array([\n",
    "    [0,0,0,0,0,0,0,0,0,0],\n",
    "    [0,0,0,0,0,0,0,0,0,0],\n",
    "    [0,0,1,1,1,0,0,1,0,0],\n",
    "    [0,0,1,1,1,0,0,0,0,0],\n",
    "    [0,0,1,1,1,0,0,0,0,0],\n",
    "    [0,0,1,1,1,1,1,1,0,0],\n",
    "    [0,0,1,0,1,1,1,1,0,0],\n",
    "    [0,0,1,1,1,1,1,1,0,0],\n",
    "    [0,0,0,0,0,0,0,0,0,0],\n",
    "    [0,0,0,0,0,0,0,0,0,0]\n",
    "], dtype=np.uint8)\n",
    "\n",
    "# Define a 3x3 kernel\n",
    "kernel = np.ones((3, 3), np.uint8)\n",
    "\n",
    "# Erosion function\n",
    "def erode(image, kernel):\n",
    "    # Create an output array of zeros with the same shape as the input image\n",
    "    output = np.zeros_like(image)\n",
    "    # Padding the image to handle border issues\n",
    "    padded_image = np.pad(image, pad_width=1, mode='constant', constant_values=0)\n",
    "    for i in range(1, padded_image.shape[0] - 1):\n",
    "        for j in range(1, padded_image.shape[1] - 1):\n",
    "            # Extract the region of interest\n",
    "            region = padded_image[i-1:i+2, j-1:j+2]\n",
    "            # Apply erosion: the pixel is set to 1 only if all the pixels under the kernel are 1\n",
    "            if np.all(region[kernel == 1] == 1):\n",
    "                output[i-1, j-1] = 1\n",
    "    return output\n",
    "\n",
    "# Dilation function\n",
    "def dilate(image, kernel):\n",
    "    # Create an output array of zeros with the same shape as the input image\n",
    "    output = np.zeros_like(image)\n",
    "    # Padding the image to handle border issues\n",
    "    padded_image = np.pad(image, pad_width=1, mode='constant', constant_values=0)\n",
    "    for i in range(1, padded_image.shape[0] - 1):\n",
    "        for j in range(1, padded_image.shape[1] - 1):\n",
    "            # Extract the region of interest\n",
    "            region = padded_image[i-1:i+2, j-1:j+2]\n",
    "            # Apply dilation: the pixel is set to 1 if any of the pixels under the kernel are 1\n",
    "            if np.any(region[kernel == 1] == 1):\n",
    "                output[i-1, j-1] = 1\n",
    "    return output\n",
    "\n",
    "# Apply Opening (erosion followed by dilation)\n",
    "eroded_image = erode(image, kernel)\n",
    "opened_image = dilate(eroded_image, kernel)\n",
    "\n",
    "# Apply Closing (dilation followed by erosion)\n",
    "dilated_image = dilate(image, kernel)\n",
    "cleaned_image = erode(dilated_image, kernel)\n",
    "\n",
    "# Print the resulting cleaned image\n",
    "print(\"Original Image:\")\n",
    "print(image)\n",
    "print(\"\\nOpened Image:\")\n",
    "print(opened_image)\n",
    "print(\"\\nCleaned Image:\")\n",
    "print(cleaned_image)\n"
   ]
  },
  {
   "cell_type": "code",
   "execution_count": null,
   "metadata": {},
   "outputs": [],
   "source": []
  }
 ],
 "metadata": {
  "kernelspec": {
   "display_name": "Python 3",
   "language": "python",
   "name": "python3"
  },
  "language_info": {
   "codemirror_mode": {
    "name": "ipython",
    "version": 3
   },
   "file_extension": ".py",
   "mimetype": "text/x-python",
   "name": "python",
   "nbconvert_exporter": "python",
   "pygments_lexer": "ipython3",
   "version": "3.7.10"
  }
 },
 "nbformat": 4,
 "nbformat_minor": 2
}
