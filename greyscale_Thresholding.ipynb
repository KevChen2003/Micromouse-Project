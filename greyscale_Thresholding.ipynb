{
 "cells": [
  {
   "cell_type": "code",
   "execution_count": null,
   "id": "efeaa349",
   "metadata": {},
   "outputs": [
    {
     "name": "stdout",
     "output_type": "stream",
     "text": [
      "(thresh = 10 , maxval = 255)\n"
     ]
    }
   ],
   "source": [
    "# Import libraries\n",
    "import cv2 \n",
    "import numpy as np\n",
    "\n",
    "def nothing(x): pass\n",
    "\n",
    "# Load image\n",
    "image = cv2.imread(\"maze.jpg\")\n",
    "\n",
    "# Create a window\n",
    "cv2.namedWindow('image', cv2.WINDOW_NORMAL) \n",
    "cv2.resizeWindow('image', 900, 400)\n",
    "\n",
    "# Create trackbars for thresholding\n",
    "# Set thresh and maxval range from 0-255\n",
    "cv2.createTrackbar('thresh', 'image',0, 255, nothing) \n",
    "cv2.createTrackbar('maxval', 'image', 0, 255, nothing) \n",
    "\n",
    "# Set default value for thresh and maxval trackbars\n",
    "cv2.setTrackbarPos('thresh', 'image', 0) \n",
    "cv2.setTrackbarPos('maxval', 'image', 255) \n",
    "\n",
    "# Initialize thresh and maxval values\n",
    "thresh = maxval = 0\n",
    "pthresh = pmaxval = 0\n",
    "\n",
    "\n",
    "while(1):\n",
    "\n",
    "    # Get current positions of all trackbars\n",
    "    thresh = cv2.getTrackbarPos('thresh', 'image')\n",
    "    maxval = cv2.getTrackbarPos('maxval', 'image')\n",
    "\n",
    "    # Convert to gray format and threshold\n",
    "    gray = cv2.cvtColor(image, cv2.COLOR_BGR2GRAY)\n",
    "    _, threshed = cv2.threshold(gray, thresh, maxval, cv2.THRESH_BINARY)\n",
    "    \n",
    "    # Convert grayscale image to color image for displaying simultaneous\n",
    "    gray_3_channel = cv2.cvtColor(gray, cv2.COLOR_GRAY2BGR)\n",
    "    threshed_3_channel = cv2.cvtColor(threshed, cv2.COLOR_GRAY2BGR)\n",
    "    \n",
    "    # Stack images\n",
    "    numpy_horizontal = np.hstack((image, gray_3_channel, threshed_3_channel))\n",
    "\n",
    "    # Print if there is a change in threshold or maxval value\n",
    "    if((pthresh != thresh) | (pmaxval != maxval)):\n",
    "        print(\"(thresh = %d , maxval = %d)\" % (thresh , maxval))\n",
    "        pthresh = thresh\n",
    "        pmaxval = maxval\n",
    "\n",
    "    # Display stacked image, press q to quit\n",
    "    cv2.imshow('image', numpy_horizontal)\n",
    "    if cv2.waitKey(10) & 0xFF == ord('q'):\n",
    "        break\n",
    "cv2.destroyAllWindows()"
   ]
  }
 ],
 "metadata": {
  "kernelspec": {
   "display_name": "Python 3",
   "language": "python",
   "name": "python3"
  },
  "language_info": {
   "codemirror_mode": {
    "name": "ipython",
    "version": 3
   },
   "file_extension": ".py",
   "mimetype": "text/x-python",
   "name": "python",
   "nbconvert_exporter": "python",
   "pygments_lexer": "ipython3",
   "version": "3.7.10"
  }
 },
 "nbformat": 4,
 "nbformat_minor": 5
}
